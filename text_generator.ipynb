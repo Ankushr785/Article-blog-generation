{
 "cells": [
  {
   "cell_type": "code",
   "execution_count": 56,
   "metadata": {},
   "outputs": [],
   "source": [
    "import gensim\n",
    "import fasttext as ft\n",
    "import re\n",
    "from nltk.corpus import stopwords\n",
    "import itertools\n",
    "from keras.layers.core import Activation, Dense, Dropout, SpatialDropout1D\n",
    "from keras.layers.embeddings import Embedding\n",
    "from keras.layers.wrappers import TimeDistributed\n",
    "from keras.layers.recurrent import LSTM\n",
    "from keras.models import Sequential\n",
    "from keras.preprocessing import sequence\n",
    "from sklearn.model_selection import train_test_split\n",
    "import collections \n",
    "import nltk\n",
    "import pandas as pd\n",
    "import numpy as np\n",
    "import matplotlib.pyplot as plt\n",
    "from nltk.corpus import stopwords"
   ]
  },
  {
   "cell_type": "code",
   "execution_count": 57,
   "metadata": {},
   "outputs": [
    {
     "name": "stderr",
     "output_type": "stream",
     "text": [
      "/usr/local/lib/python3.6/dist-packages/pandas/core/generic.py:3643: SettingWithCopyWarning: \n",
      "A value is trying to be set on a copy of a slice from a DataFrame.\n",
      "Try using .loc[row_indexer,col_indexer] = value instead\n",
      "\n",
      "See the caveats in the documentation: http://pandas.pydata.org/pandas-docs/stable/indexing.html#indexing-view-versus-copy\n",
      "  self[name] = value\n"
     ]
    }
   ],
   "source": [
    "articles1 = pd.read_csv('articles1.csv')\n",
    "articles = articles1.iloc[:100,:]\n",
    "\n",
    "stopset = set(stopwords.words('english'))\n",
    "def cleaner(x):\n",
    "    x = nltk.word_tokenize(str(x))\n",
    "    x = [w for w in x if not w in stopset]\n",
    "    return x\n",
    "\n",
    "articles.content = articles.content.map(lambda x:cleaner(x))\n",
    "articles.title = articles.title.map(lambda x:cleaner(x))"
   ]
  },
  {
   "cell_type": "code",
   "execution_count": 58,
   "metadata": {},
   "outputs": [
    {
     "data": {
      "text/html": [
       "<div>\n",
       "<style scoped>\n",
       "    .dataframe tbody tr th:only-of-type {\n",
       "        vertical-align: middle;\n",
       "    }\n",
       "\n",
       "    .dataframe tbody tr th {\n",
       "        vertical-align: top;\n",
       "    }\n",
       "\n",
       "    .dataframe thead th {\n",
       "        text-align: right;\n",
       "    }\n",
       "</style>\n",
       "<table border=\"1\" class=\"dataframe\">\n",
       "  <thead>\n",
       "    <tr style=\"text-align: right;\">\n",
       "      <th></th>\n",
       "      <th>Unnamed: 0</th>\n",
       "      <th>id</th>\n",
       "      <th>title</th>\n",
       "      <th>publication</th>\n",
       "      <th>author</th>\n",
       "      <th>date</th>\n",
       "      <th>year</th>\n",
       "      <th>month</th>\n",
       "      <th>url</th>\n",
       "      <th>content</th>\n",
       "    </tr>\n",
       "  </thead>\n",
       "  <tbody>\n",
       "    <tr>\n",
       "      <th>0</th>\n",
       "      <td>0</td>\n",
       "      <td>17283</td>\n",
       "      <td>[House, Republicans, Fret, About, Winning, The...</td>\n",
       "      <td>New York Times</td>\n",
       "      <td>Carl Hulse</td>\n",
       "      <td>2016-12-31</td>\n",
       "      <td>2016.0</td>\n",
       "      <td>12.0</td>\n",
       "      <td>NaN</td>\n",
       "      <td>[WASHINGTON, —, Congressional, Republicans, ne...</td>\n",
       "    </tr>\n",
       "    <tr>\n",
       "      <th>1</th>\n",
       "      <td>1</td>\n",
       "      <td>17284</td>\n",
       "      <td>[Rift, Between, Officers, Residents, Killings,...</td>\n",
       "      <td>New York Times</td>\n",
       "      <td>Benjamin Mueller and Al Baker</td>\n",
       "      <td>2017-06-19</td>\n",
       "      <td>2017.0</td>\n",
       "      <td>6.0</td>\n",
       "      <td>NaN</td>\n",
       "      <td>[After, bullet, shells, get, counted, ,, blood...</td>\n",
       "    </tr>\n",
       "    <tr>\n",
       "      <th>2</th>\n",
       "      <td>2</td>\n",
       "      <td>17285</td>\n",
       "      <td>[Tyrus, Wong, ,, ‘, Bambi, ’, Artist, Thwarted...</td>\n",
       "      <td>New York Times</td>\n",
       "      <td>Margalit Fox</td>\n",
       "      <td>2017-01-06</td>\n",
       "      <td>2017.0</td>\n",
       "      <td>1.0</td>\n",
       "      <td>NaN</td>\n",
       "      <td>[When, Walt, Disney, ’, “, Bambi, ”, opened, 1...</td>\n",
       "    </tr>\n",
       "    <tr>\n",
       "      <th>3</th>\n",
       "      <td>3</td>\n",
       "      <td>17286</td>\n",
       "      <td>[Among, Deaths, 2016, ,, Heavy, Toll, Pop, Mus...</td>\n",
       "      <td>New York Times</td>\n",
       "      <td>William McDonald</td>\n",
       "      <td>2017-04-10</td>\n",
       "      <td>2017.0</td>\n",
       "      <td>4.0</td>\n",
       "      <td>NaN</td>\n",
       "      <td>[Death, may, great, equalizer, ,, ’, necessari...</td>\n",
       "    </tr>\n",
       "    <tr>\n",
       "      <th>4</th>\n",
       "      <td>4</td>\n",
       "      <td>17287</td>\n",
       "      <td>[Kim, Jong-un, Says, North, Korea, Is, Prepari...</td>\n",
       "      <td>New York Times</td>\n",
       "      <td>Choe Sang-Hun</td>\n",
       "      <td>2017-01-02</td>\n",
       "      <td>2017.0</td>\n",
       "      <td>1.0</td>\n",
       "      <td>NaN</td>\n",
       "      <td>[SEOUL, ,, South, Korea, —, North, Korea, ’, l...</td>\n",
       "    </tr>\n",
       "  </tbody>\n",
       "</table>\n",
       "</div>"
      ],
      "text/plain": [
       "   Unnamed: 0     id                                              title  \\\n",
       "0           0  17283  [House, Republicans, Fret, About, Winning, The...   \n",
       "1           1  17284  [Rift, Between, Officers, Residents, Killings,...   \n",
       "2           2  17285  [Tyrus, Wong, ,, ‘, Bambi, ’, Artist, Thwarted...   \n",
       "3           3  17286  [Among, Deaths, 2016, ,, Heavy, Toll, Pop, Mus...   \n",
       "4           4  17287  [Kim, Jong-un, Says, North, Korea, Is, Prepari...   \n",
       "\n",
       "      publication                         author        date    year  month  \\\n",
       "0  New York Times                     Carl Hulse  2016-12-31  2016.0   12.0   \n",
       "1  New York Times  Benjamin Mueller and Al Baker  2017-06-19  2017.0    6.0   \n",
       "2  New York Times                   Margalit Fox  2017-01-06  2017.0    1.0   \n",
       "3  New York Times               William McDonald  2017-04-10  2017.0    4.0   \n",
       "4  New York Times                  Choe Sang-Hun  2017-01-02  2017.0    1.0   \n",
       "\n",
       "   url                                            content  \n",
       "0  NaN  [WASHINGTON, —, Congressional, Republicans, ne...  \n",
       "1  NaN  [After, bullet, shells, get, counted, ,, blood...  \n",
       "2  NaN  [When, Walt, Disney, ’, “, Bambi, ”, opened, 1...  \n",
       "3  NaN  [Death, may, great, equalizer, ,, ’, necessari...  \n",
       "4  NaN  [SEOUL, ,, South, Korea, —, North, Korea, ’, l...  "
      ]
     },
     "execution_count": 58,
     "metadata": {},
     "output_type": "execute_result"
    }
   ],
   "source": [
    "articles.head()"
   ]
  },
  {
   "cell_type": "code",
   "execution_count": 59,
   "metadata": {},
   "outputs": [
    {
     "name": "stdout",
     "output_type": "stream",
     "text": [
      "Data length: 95703 words\n",
      "Vocabulary size: 14998 words\n"
     ]
    }
   ],
   "source": [
    "#maxlen = 0\n",
    "#word_freqs = collections.Counter()\n",
    "#unique = []\n",
    "#num_recs = 0\n",
    "#for line in range(len(articles.content)):\n",
    " #   words = articles.content[line]\n",
    "  #  if len(words)>maxlen:\n",
    "   #     maxlen = len(words)\n",
    "    #for word in words:\n",
    "     #   word_freqs[word] += 1\n",
    "      #  if word not in unique:\n",
    "       #     unique.append(word)\n",
    "    #num_recs += 1\n",
    "\n",
    "vocab = []\n",
    "word = []\n",
    "for i in range(len(articles.content)):\n",
    "    for j in range(len(articles.content[i])):\n",
    "        word.append(articles.content[i][j])\n",
    "        if articles.content[i][j] not in vocab:\n",
    "            vocab.append(articles.content[i][j])\n",
    "#chars = list(set(data))\n",
    "VOCAB_SIZE = len(vocab)\n",
    "\n",
    "seq_length = 1\n",
    "print('Data length: {} words'.format(len(word)))\n",
    "print('Vocabulary size: {} words'.format(VOCAB_SIZE))\n",
    "\n",
    "ix_to_word = {ix:word for ix, word in enumerate(vocab)}\n",
    "word_to_ix = {word:ix for ix, word in enumerate(vocab)}\n",
    "    \n",
    "X = np.zeros((int(len(word)/seq_length), seq_length, VOCAB_SIZE))\n",
    "y = np.zeros((int(len(word)/seq_length), seq_length, VOCAB_SIZE))\n",
    "y_bar = np.zeros((int(len(word)/seq_length), seq_length, VOCAB_SIZE))\n",
    "for i in range(0, int(len(articles.content)/seq_length)):\n",
    "    X_sequence = word[i*seq_length:(i+1)*seq_length]\n",
    "    X_sequence_ix = [word_to_ix[value] for value in X_sequence]\n",
    "    input_sequence = np.zeros((seq_length, VOCAB_SIZE))\n",
    "    for j in range(seq_length):\n",
    "        input_sequence[j][X_sequence_ix[j]] = 1.\n",
    "        X[i] = input_sequence\n",
    "\n",
    "    y_sequence = word[i*seq_length+1:(i+1)*seq_length+1]\n",
    "    y_sequence_ix = [word_to_ix[value] for value in y_sequence]\n",
    "    target_sequence = np.zeros((seq_length, VOCAB_SIZE))\n",
    "    for j in range(seq_length):\n",
    "        target_sequence[j][y_sequence_ix[j]] = 1\n",
    "        y[i] = target_sequence\n",
    "        \n",
    "    y_bar_sequence = word[i*seq_length-1:(i+1)*seq_length-1]\n",
    "    y_bar_sequence_ix = [word_to_ix[value] for value in y_sequence]\n",
    "    target_sequence_bar = np.zeros((seq_length, VOCAB_SIZE))\n",
    "    for j in range(seq_length):\n",
    "        target_sequence_bar[j][y_sequence_ix[j]] = 1\n",
    "        y_bar[i] = target_sequence_bar"
   ]
  },
  {
   "cell_type": "code",
   "execution_count": 60,
   "metadata": {},
   "outputs": [],
   "source": [
    "xtrain = X[:int(.75*len(X)), :, :]\n",
    "ytrain = y[:int(.75*len(X)), :, :]\n",
    "xtest = X[int(.75*len(X)):, :, :]\n",
    "ytest = y[int(.75*len(X)):, :, :]"
   ]
  },
  {
   "cell_type": "code",
   "execution_count": 61,
   "metadata": {},
   "outputs": [],
   "source": [
    "x_train = X[:int(.75*len(X)), :, :]\n",
    "y_train = y_bar[:int(.75*len(X)), :, :]\n",
    "x_test = X[int(.75*len(X)):, :, :]\n",
    "y_test = y_bar[int(.75*len(X)):, :, :]"
   ]
  },
  {
   "cell_type": "code",
   "execution_count": 62,
   "metadata": {},
   "outputs": [],
   "source": [
    "model = Sequential()\n",
    "model.add(LSTM(1200, input_shape=(None, VOCAB_SIZE), return_sequences=True))\n",
    "for i in range(2):\n",
    "  model.add(LSTM(600, return_sequences=True))\n",
    "model.add(TimeDistributed(Dense(VOCAB_SIZE)))\n",
    "model.add(Activation('softmax'))\n",
    "model.compile(loss=\"categorical_crossentropy\", optimizer=\"adam\", metrics = [\"accuracy\"])"
   ]
  },
  {
   "cell_type": "code",
   "execution_count": null,
   "metadata": {},
   "outputs": [],
   "source": []
  },
  {
   "cell_type": "code",
   "execution_count": 63,
   "metadata": {},
   "outputs": [
    {
     "name": "stdout",
     "output_type": "stream",
     "text": [
      "Train on 71777 samples, validate on 23926 samples\n",
      "Epoch 1/2\n",
      "71777/71777 [==============================] - 271s 4ms/step - loss: 0.0134 - acc: 0.0279 - val_loss: 0.0000e+00 - val_acc: 0.0000e+00\n",
      "Epoch 2/2\n",
      "71777/71777 [==============================] - 266s 4ms/step - loss: 0.0133 - acc: 2.7864e-05 - val_loss: 0.0000e+00 - val_acc: 0.0000e+00\n"
     ]
    }
   ],
   "source": [
    "#vocab_size = min(max_features, len(word_freqs))\n",
    "#word2index = {x[0]: i+2 for i,x in enumerate(word_freqs.most_common(max_features))}\n",
    "#word2index[\"UNK\"] = 1\n",
    "#index2word = {v:k for k, v in word2index.items()}\n",
    "BATCH_SIZE = 1000\n",
    "history = model.fit(xtrain, ytrain, batch_size=BATCH_SIZE, verbose=1, epochs=2, validation_data=(xtest, ytest))"
   ]
  },
  {
   "cell_type": "code",
   "execution_count": 64,
   "metadata": {},
   "outputs": [
    {
     "name": "stdout",
     "output_type": "stream",
     "text": [
      "bully Republicans\n"
     ]
    }
   ],
   "source": [
    "#word_sequence = pd.Series(words)\n",
    "length = 1\n",
    "ix = [np.random.randint(VOCAB_SIZE)]\n",
    "y_word = [ix_to_word[ix[-1]]]\n",
    "x = np.zeros((1, length, VOCAB_SIZE))\n",
    "for i in range(length):\n",
    "    # appending the last predicted character to sequence\n",
    "    x[0, i, :][ix[-1]] = 1\n",
    "    #print(ix_to_word[ix[-1]], end=\"\")\n",
    "    ix = np.argmax(model.predict(x[:, :i+1, :])[0], 1)\n",
    "    y_word.append(ix_to_word[ix[-1]])\n",
    "    if y_word[-1] == '.':\n",
    "        break\n",
    "print((' ').join(y_word))"
   ]
  },
  {
   "cell_type": "code",
   "execution_count": 65,
   "metadata": {},
   "outputs": [
    {
     "name": "stdout",
     "output_type": "stream",
     "text": [
      "Train on 71777 samples, validate on 23926 samples\n",
      "Epoch 1/2\n",
      "71777/71777 [==============================] - 267s 4ms/step - loss: 0.0123 - acc: 6.9660e-05 - val_loss: 0.0000e+00 - val_acc: 0.0000e+00\n",
      "Epoch 2/2\n",
      "71777/71777 [==============================] - 266s 4ms/step - loss: 0.0084 - acc: 5.5728e-05 - val_loss: 0.0000e+00 - val_acc: 0.0000e+00\n"
     ]
    }
   ],
   "source": [
    "#x = pd.get_dummies(word_sequence)\n",
    "#y = x.shift(-1)\n",
    "BATCH_SIZE_BAR = 1000\n",
    "history_bar = model.fit(x_train, y_train, batch_size=BATCH_SIZE_BAR, verbose=1, epochs=2, validation_data=(x_test, y_test))"
   ]
  },
  {
   "cell_type": "code",
   "execution_count": 71,
   "metadata": {},
   "outputs": [
    {
     "name": "stdout",
     "output_type": "stream",
     "text": [
      "Republicans brains\n"
     ]
    }
   ],
   "source": [
    "#word_sequence = pd.Series(words)\n",
    "length_bar = 1\n",
    "ix_bar = [np.random.randint(VOCAB_SIZE)]\n",
    "y_word_bar = [ix_to_word[ix_bar[-1]]]\n",
    "x_bar = np.zeros((1, length_bar, VOCAB_SIZE))\n",
    "for i in range(length_bar):\n",
    "    # appending the last predicted character to sequence\n",
    "    x_bar[0, i, :][ix_bar[-1]] = 1\n",
    "    #print(ix_to_word[ix[-1]], end=\"\")\n",
    "    ix_bar = np.argmax(model.predict(x_bar[:, :i+1, :])[0], 1)\n",
    "    y_word_bar.append(ix_to_word[ix_bar[-1]])\n",
    "    if y_word_bar[-1] == '.':\n",
    "        break\n",
    "    \n",
    "y_word_bar = reversed(y_word_bar)\n",
    "print((' ').join(y_word_bar))"
   ]
  },
  {
   "cell_type": "code",
   "execution_count": 72,
   "metadata": {},
   "outputs": [
    {
     "data": {
      "image/png": "[encoded data removed]",
      "text/plain": [
       "<matplotlib.figure.Figure at 0x7fbaf8de19b0>"
      ]
     },
     "metadata": {},
     "output_type": "display_data"
    }
   ],
   "source": [
    "import matplotlib.pyplot as plt\n",
    "plt.subplot(211)\n",
    "plt.title(\"Accuracy\")\n",
    "plt.plot(history.history[\"acc\"], color=\"g\", label=\"Train\")\n",
    "plt.plot(history.history[\"val_acc\"], color=\"b\", label=\"Validation\")\n",
    "plt.legend(loc=\"best\")\n",
    "\n",
    "plt.subplot(212)\n",
    "plt.title(\"Loss\")\n",
    "plt.plot(history.history[\"loss\"], color=\"g\", label=\"Train\")\n",
    "plt.plot(history.history[\"val_loss\"], color=\"b\", label=\"Validation\")\n",
    "plt.legend(loc=\"best\")\n",
    "plt.tight_layout()\n",
    "\n",
    "plt.show()"
   ]
  },
  {
   "cell_type": "code",
   "execution_count": 73,
   "metadata": {},
   "outputs": [
    {
     "data": {
      "image/png": "[encoded data removed]",
      "text/plain": [
       "<matplotlib.figure.Figure at 0x7fbaf8de1f98>"
      ]
     },
     "metadata": {},
     "output_type": "display_data"
    }
   ],
   "source": [
    "plt.subplot(211)\n",
    "plt.title(\"Accuracy\")\n",
    "plt.plot(history_bar.history[\"acc\"], color=\"g\", label=\"Train\")\n",
    "plt.plot(history_bar.history[\"val_acc\"], color=\"b\", label=\"Validation\")\n",
    "plt.legend(loc=\"best\")\n",
    "\n",
    "plt.subplot(212)\n",
    "plt.title(\"Loss\")\n",
    "plt.plot(history_bar.history[\"loss\"], color=\"g\", label=\"Train\")\n",
    "plt.plot(history_bar.history[\"val_loss\"], color=\"b\", label=\"Validation\")\n",
    "plt.legend(loc=\"best\")\n",
    "plt.tight_layout()\n",
    "\n",
    "plt.show()"
   ]
  },
  {
   "cell_type": "code",
   "execution_count": null,
   "metadata": {},
   "outputs": [],
   "source": []
  }
 ],
 "metadata": {
  "kernelspec": {
   "display_name": "Python 3",
   "language": "python",
   "name": "python3"
  },
  "language_info": {
   "codemirror_mode": {
    "name": "ipython",
    "version": 3
   },
   "file_extension": ".py",
   "mimetype": "text/x-python",
   "name": "python",
   "nbconvert_exporter": "python",
   "pygments_lexer": "ipython3",
   "version": "3.6.4"
  }
 },
 "nbformat": 4,
 "nbformat_minor": 2
}
